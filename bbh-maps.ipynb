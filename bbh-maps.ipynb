{
 "cells": [
  {
   "cell_type": "markdown",
   "metadata": {},
   "source": [
    "# BBH Postmerger GW Representations"
   ]
  },
  {
   "cell_type": "markdown",
   "metadata": {},
   "source": [
    "This notebook explores the time-, frequency- and time-frequency representations of BBH merger/post-merger signals\n"
   ]
  },
  {
   "cell_type": "code",
   "execution_count": 1,
   "metadata": {},
   "outputs": [
    {
     "name": "stderr",
     "output_type": "stream",
     "text": [
      "/usr/local/lib/python2.7/dist-packages/h5py/__init__.py:36: FutureWarning: Conversion of the second argument of issubdtype from `float` to `np.floating` is deprecated. In future, it will be treated as `np.float64 == np.dtype(float).type`.\n",
      "  from ._conv import register_converters as _register_converters\n"
     ]
    },
    {
     "name": "stdout",
     "output_type": "stream",
     "text": [
      "\n"
     ]
    },
    {
     "name": "stderr",
     "output_type": "stream",
     "text": [
      "/usr/local/lib/python2.7/dist-packages/matplotlib/__init__.py:800: MatplotlibDeprecationWarning: text.fontsize is deprecated and replaced with font.size; please use the latter.\n",
      "  mplDeprecation)\n"
     ]
    }
   ],
   "source": [
    "# %matplotlib inline\n",
    "import matplotlib\n",
    "# matplotlib.use('Agg')\n",
    "import sys, os, h5py\n",
    "import numpy as np\n",
    "from matplotlib import pyplot as plt\n",
    "import cwt\n",
    "from scipy.interpolate import interp1d\n",
    "from skimage.measure import shannon_entropy\n",
    "\n",
    "import pycbc.waveform as wfutils\n",
    "from pycbc.waveform import get_td_waveform,taper_timeseries\n",
    "from pycbc.types import FrequencySeries\n",
    "from pycbc.filter import sigma as optimal_snr\n",
    "\n",
    "fig_width_pt = 510.\n",
    "inches_per_pt = 1.0/72.27               # Convert pt to inches\n",
    "golden_mean = (np.sqrt(5)-1.0)/2.0         # Aesthetic ratio\n",
    "fig_width = fig_width_pt*inches_per_pt  # width in inches\n",
    "fig_height =fig_width*golden_mean       # height in inches\n",
    "fig_size = [fig_width,fig_height]\n",
    "\n",
    "fontsize = 16\n",
    "legendfontsize = 14\n",
    "\n",
    "params={'text.usetex': True,\n",
    "        'axes.labelsize': fontsize,\n",
    "        'text.fontsize': fontsize,\n",
    "        'legend.fontsize': legendfontsize,\n",
    "        'xtick.labelsize': fontsize,\n",
    "        'ytick.labelsize': fontsize,\n",
    "        'figure.figsize': fig_size,\n",
    "        'font.weight': 'normal'\n",
    "       }\n",
    "\n",
    "\n",
    "import pylab\n",
    "pylab.rcParams.update(params)\n",
    "pylab.rcParams['axes.linewidth'] = 1\n",
    "pylab.rc('axes', linewidth=1)\n",
    "\n",
    "def touchbox(ax):\n",
    "    ax.tick_params('both', length=5, width=1, which='major')\n",
    "    ax.tick_params('both', length=3.5, width=1, which='minor')\n",
    "    ax.spines['top'].set_linewidth(1)\n",
    "    ax.spines['bottom'].set_linewidth(1)\n",
    "    ax.spines['right'].set_linewidth(1)\n",
    "    ax.spines['left'].set_linewidth(1)\n",
    "    return\n"
   ]
  },
  {
   "cell_type": "markdown",
   "metadata": {},
   "source": [
    "## Data aquisition"
   ]
  },
  {
   "cell_type": "markdown",
   "metadata": {},
   "source": [
    "### Notebook configuration\n",
    "working & save directories, filenames etc"
   ]
  },
  {
   "cell_type": "code",
   "execution_count": 2,
   "metadata": {},
   "outputs": [],
   "source": [
    "waveform_dir=\"waves\"\n",
    "waveform_file=os.path.join(waveform_dir,\"GT_NonSpin_Catalogue.ascii\")\n",
    "savepath = \"/bbhmaps\"\n",
    "total_mass=100\n",
    "sample_frequency = 4096"
   ]
  },
  {
   "cell_type": "markdown",
   "metadata": {},
   "source": [
    "### Waveform configuration\n",
    "Choice of waveform (filename), masses, ..."
   ]
  },
  {
   "cell_type": "code",
   "execution_count": 3,
   "metadata": {},
   "outputs": [
    {
     "name": "stdout",
     "output_type": "stream",
     "text": [
      "[100. 100. 100. 100. 100. 100. 100. 100. 100.]\n",
      "['waves/GT0601.h5', 'waves/GT0568.h5', 'waves/GT0818.h5', 'waves/GT0604.h5', 'waves/GT0577.h5', 'waves/GT0454.h5', 'waves/GT0453.h5', 'waves/GT0376.h5', 'waves/GT0448.h5']\n"
     ]
    }
   ],
   "source": [
    "waves = np.genfromtxt(waveform_file, dtype=str)\n",
    "\n",
    "\n",
    "numrel_files = [os.path.join(waveform_dir, waveform)\n",
    "                for waveform in np.genfromtxt(waveform_file, dtype=str)]\n",
    "\n",
    "masses = total_mass*np.ones(len(numrel_files))\n",
    "print masses\n",
    "print numrel_files"
   ]
  },
  {
   "cell_type": "markdown",
   "metadata": {},
   "source": [
    "## Generate Waveforms And Time-Frequency Analysis\n"
   ]
  },
  {
   "cell_type": "code",
   "execution_count": null,
   "metadata": {},
   "outputs": [],
   "source": [
    "for n,(numrel_data, mass) in enumerate(zip(numrel_files, masses)):\n",
    "    \n",
    "    wavelabel=os.path.join(savepath, numrel_data.split('/')[-1].replace(\".h5\",\"\"))\n",
    "\n",
    "    print \"%s [%d/%d]\"%(wavelabel, n+1, len(numrel_files))\n",
    "      \n",
    "    f = h5py.File(numrel_data, 'r')\n",
    "\n",
    "    hp, hc = get_td_waveform(approximant='NR_hdf5',\n",
    "                                 numrel_data=numrel_data,\n",
    "                                 mass1=f.attrs['mass1']*mass,\n",
    "                                 mass2=f.attrs['mass2']*mass,\n",
    "                                 spin1z=f.attrs['spin1z'],\n",
    "                                 spin2z=f.attrs['spin2z'],\n",
    "                                 delta_t=1.0/sample_frequency,\n",
    "                                 f_lower=10.,\n",
    "                                 inclination=0.0,\n",
    "                                 coa_phase=0.0,\n",
    "                                 distance=1000)\n",
    "\n",
    "    f.close()\n",
    "\n",
    "    sys.exit()\n",
    "#     # Resize / zero-pad to 10 seconds\n",
    "    hp.resize(10*sample_frequency)\n",
    "    hc.resize(10*sample_frequency)\n",
    "\n",
    "    # Truncate and taper from maximum\n",
    "    delay=0#int(1e-3 / delta_t)\n",
    "    truncidx = np.argmax(abs(hp)) - delay\n",
    "    import copy\n",
    "    hp_post = copy.deepcopy(hp)\n",
    "    hp_post.data[:truncidx] = 0.0 \n",
    "    hc_post = copy.deepcopy(hc)\n",
    "    hc_post.data[:truncidx] = 0.0 \n",
    "\n",
    "    # taper waveform\n",
    "    hp = taper_timeseries(hp, tapermethod=\"TAPER_STARTEND\")\n",
    "    hc = taper_timeseries(hc, tapermethod=\"TAPER_STARTEND\")\n",
    "\n",
    "    hp_post = taper_timeseries(hp_post, tapermethod=\"TAPER_STARTEND\")\n",
    "    hc_post = taper_timeseries(hc_post, tapermethod=\"TAPER_STARTEND\")\n",
    "\n",
    "\n",
    "    # Reduce to 0.25 second\n",
    "    hp_red = hp[:int(sample_frequency)]\n",
    "\n",
    "    # User input\n",
    "    mother_freq=6\n",
    "    max_scale=128\n",
    "\n",
    "    fmin=sample_frequency*mother_freq/max_scale\n",
    "    fmax=sample_frequency*mother_freq\n",
    "\n",
    "\n",
    "    shannon = []\n",
    "    Qs=np.arange(0.5, 8, 0.5)\n",
    "    for q, Q in enumerate(Qs):\n",
    "\n",
    "        # Compute the CWT\n",
    "        cwt_result = cwt.build_cwt(hp_red.data, hp_red.sample_times, \n",
    "                                   mother_freq=Q, max_scale=max_scale)\n",
    "        wplane = cwt_result['map']\n",
    "\n",
    "        shannon.append(shannon_entropy(wplane))\n",
    "\n",
    "#         print \"On Q={0}: {1} [{2}/{3}]\".format(Q, shannon[q], q+1, len(Qs))\n",
    "\n",
    "    plt.figure()\n",
    "    plt.plot(np.arange(0.5, 8, 0.5), shannon)\n",
    "    plt.axvline(np.arange(0.5, 8, 0.5)[np.argmax(shannon)], color='r', label=np.arange(0.5, 8, 0.5)[np.argmax(shannon)])\n",
    "    plt.legend()\n",
    "    plt.savefig(\"{}-Entropies.png\".format(wavelabel))\n",
    "    plt.close()\n",
    "\n",
    "\n",
    "    # Compute the CWT\n",
    "\n",
    "    red_time = hp_red.sample_times - hp.sample_times[np.argmax(abs(hp_red))]\n",
    "\n",
    "    cwt_result = cwt.build_cwt(hp_red.data, hp_red.sample_times, \n",
    "                               mother_freq=mother_freq, max_scale=max_scale)\n",
    "    wtimes = np.copy(red_time)\n",
    "    wfreqs = cwt_result['frequencies']\n",
    "    wplane = cwt_result['map']\n",
    "\n",
    "    # Eliminate freqs > Nyquist\n",
    "    interpolant = interp1d(wfreqs, wplane, axis=0)\n",
    "    wfreqs = np.arange(wfreqs.min(), 4096, 10)\n",
    "    wplane = interpolant(wfreqs)\n",
    "\n",
    "\n",
    "\n",
    "    fig, ax = plt.subplots(figsize=fig_size)\n",
    "\n",
    "    p_qstrain = ax.pcolormesh(wtimes, wfreqs, (abs(wplane)),\n",
    "                              cmap='magma', rasterized=False,\n",
    "                             vmin=0,vmax=1)\n",
    "\n",
    "    c_qstrain = ax.contour(wtimes, wfreqs, (abs(wplane)), \n",
    "                colors='lightgray', levels=np.logspace(-1,0,5))\n",
    "\n",
    "    cbaxes = fig.add_axes([0.1275, 0.9, 0.77, 0.03]) \n",
    "    cbar=fig.colorbar(p_qstrain, orientation='horizontal', cax=cbaxes)\n",
    "\n",
    "    cbar.ax.xaxis.set_ticks_position('top')\n",
    "    cbar.ax.xaxis.set_label_position('top')\n",
    "\n",
    "    ax.set_xlim(-0.005,0.025)\n",
    "    ax.set_ylim(800,4096)\n",
    "\n",
    "    ax.set_xlabel(r'$\\textrm{Time [s]}$')\n",
    "    ax.set_ylabel(r'$\\textrm{Frequency [Hz]}$')\n",
    "    ax.clabel(c_qstrain, inline=1, fmt=\"%.1f\", fontsize=14)\n",
    "    ax.minorticks_on()\n",
    "\n",
    "    touchbox(ax)\n",
    "\n",
    "    plt.savefig(\"{}-CWT.png\".format(wavelabel))\n",
    "    plt.close()\n",
    "    \n",
    "    \n",
    "    # Savez\n",
    "    np.savez(\"{}-map\".format(wavelabel), time=wtimes, frequency=wfreqs,\n",
    "            tfmap=wplane)\n",
    "\n",
    "    sys.exit()"
   ]
  },
  {
   "cell_type": "code",
   "execution_count": null,
   "metadata": {},
   "outputs": [],
   "source": []
  }
 ],
 "metadata": {
  "kernelspec": {
   "display_name": "Python 2",
   "language": "python",
   "name": "python2"
  },
  "language_info": {
   "codemirror_mode": {
    "name": "ipython",
    "version": 2
   },
   "file_extension": ".py",
   "mimetype": "text/x-python",
   "name": "python",
   "nbconvert_exporter": "python",
   "pygments_lexer": "ipython2",
   "version": "2.7.9"
  }
 },
 "nbformat": 4,
 "nbformat_minor": 2
}
